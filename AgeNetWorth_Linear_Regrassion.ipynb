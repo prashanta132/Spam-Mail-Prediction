{
  "nbformat": 4,
  "nbformat_minor": 0,
  "metadata": {
    "colab": {
      "name": "AgeNetWorth Linear Regrassion.ipynb",
      "provenance": [],
      "authorship_tag": "ABX9TyNxua1T+PJnNRqJR7brz5K9",
      "include_colab_link": true
    },
    "kernelspec": {
      "name": "python3",
      "display_name": "Python 3"
    },
    "language_info": {
      "name": "python"
    }
  },
  "cells": [
    {
      "cell_type": "markdown",
      "metadata": {
        "id": "view-in-github",
        "colab_type": "text"
      },
      "source": [
        "<a href=\"https://colab.research.google.com/github/prashanta132/Spam-Mail-Prediction/blob/main/AgeNetWorth_Linear_Regrassion.ipynb\" target=\"_parent\"><img src=\"https://colab.research.google.com/assets/colab-badge.svg\" alt=\"Open In Colab\"/></a>"
      ]
    },
    {
      "cell_type": "code",
      "metadata": {
        "id": "Gh1diP91Mhbw"
      },
      "source": [
        "import numpy\n",
        "import random"
      ],
      "execution_count": 2,
      "outputs": []
    },
    {
      "cell_type": "code",
      "metadata": {
        "id": "HqsKZAxmT55m"
      },
      "source": [
        "import matplotlib.pyplot as plt\n"
      ],
      "execution_count": 3,
      "outputs": []
    },
    {
      "cell_type": "markdown",
      "metadata": {
        "id": "jYDB3l91UNiU"
      },
      "source": [
        "#Function named studentReg for using linear regression model and training the model\n",
        "#with given values"
      ]
    },
    {
      "cell_type": "code",
      "metadata": {
        "id": "iz_cn7knUOy9"
      },
      "source": [
        "def studentReg(ages_train,net_worth_train):\n",
        "     from sklearn.linear_model import LinearRegression\n",
        "     reg = LinearRegression()\n",
        "     reg.fit(ages_train,net_worth_train)\n",
        "     return reg"
      ],
      "execution_count": 5,
      "outputs": []
    },
    {
      "cell_type": "code",
      "metadata": {
        "id": "dXgnA4eJVGdB"
      },
      "source": [
        "#random() function is used to generate random numbers in Python\n",
        "#Seed is used in the generation of a pseudo-random encryption key.\n",
        "#Also seed function is used to generate same random numbers again and again and \n",
        "#simplifies algorithm testing process."
      ],
      "execution_count": 6,
      "outputs": []
    },
    {
      "cell_type": "code",
      "metadata": {
        "id": "PHvlVrL9VUwj"
      },
      "source": [
        "random.seed(42)\n",
        "numpy.random.seed(42)\n",
        "\n",
        "ages = []\n",
        "for ii in range(100):\n",
        "  ages.append(random.randint(20,65))\n",
        "\n",
        "   "
      ],
      "execution_count": 8,
      "outputs": []
    },
    {
      "cell_type": "code",
      "metadata": {
        "id": "VU31F64NV9Xd"
      },
      "source": [
        "#scale : [float or array_like]Standard Derivation of the distribution. \n",
        "#Generating net_worth by multiplying with 6.25 taking it as slope\n",
        "net_worths = [ii * 6.25 + numpy.random.normal(scale=40.) for ii in ages]\n",
        "\n",
        "### need massage list into a 2d numpy array to get it to work in LinearRegression\n",
        "ages = numpy.reshape(numpy.array(ages),(len(ages),1))\n",
        "net_worths = numpy.reshape(numpy.array(net_worths),(len(net_worths),1))\n",
        "\n"
      ],
      "execution_count": 9,
      "outputs": []
    },
    {
      "cell_type": "code",
      "metadata": {
        "id": "0_ivEMskXkkH"
      },
      "source": [
        "#train_test_split is a function in Sklearn model selection for splitting data \n",
        "#arrays into two subsets: for training data and for testing data. \n",
        "#With this function, you don't need to divide the dataset manually.\n",
        "from sklearn.model_selection import train_test_split\n",
        "ages_train, ages_test, net_worths_train, net_worths_test = train_test_split(ages, net_worths)"
      ],
      "execution_count": 10,
      "outputs": []
    },
    {
      "cell_type": "code",
      "metadata": {
        "id": "nuvQYoxxX4OF"
      },
      "source": [
        "\n",
        "#Passing training data to my Linear regression model\n",
        "reg = studentReg(ages_train,net_worths_train)"
      ],
      "execution_count": 11,
      "outputs": []
    },
    {
      "cell_type": "code",
      "metadata": {
        "colab": {
          "base_uri": "https://localhost:8080/"
        },
        "id": "XgwKnyGnYJwI",
        "outputId": "9ae22423-645c-4469-ec5d-6856bd8c03f4"
      },
      "source": [
        "#Checking slope and intercept of the trained model\n",
        "print(\"Coefficient\",reg.coef_)\n",
        "print(\"Slope\",reg.intercept_)"
      ],
      "execution_count": 12,
      "outputs": [
        {
          "output_type": "stream",
          "text": [
            "Coefficient [[6.30945055]]\n",
            "Slope [-7.44716216]\n"
          ],
          "name": "stdout"
        }
      ]
    },
    {
      "cell_type": "code",
      "metadata": {
        "colab": {
          "base_uri": "https://localhost:8080/"
        },
        "id": "1OSTValMYRB3",
        "outputId": "bcb66214-3e64-4690-9102-033748b8c299"
      },
      "source": [
        "#Calculating efficiency. It internally calculates y_pred again and gives the \n",
        "#efficiency\n",
        "print(\"testing Data\",reg.score(ages_test,net_worths_test))\n",
        "print(\"Training Data\",reg.score(ages_train,net_worths_train))"
      ],
      "execution_count": 13,
      "outputs": [
        {
          "output_type": "stream",
          "text": [
            "testing Data 0.7889037259170788\n",
            "Training Data 0.8773146084882211\n"
          ],
          "name": "stdout"
        }
      ]
    },
    {
      "cell_type": "code",
      "metadata": {
        "colab": {
          "base_uri": "https://localhost:8080/",
          "height": 279
        },
        "id": "B-Z_E1RiYx8W",
        "outputId": "ca24fd68-853d-4c3f-dc80-2e6bc16e647d"
      },
      "source": [
        "#Plotting graph using matplotlib.\n",
        "plt.plot(ages_test,reg.predict(ages_test))\n",
        "plt.xlabel(\"ages\")\n",
        "plt.ylabel(\"Net Worth\")\n",
        "plt.show()"
      ],
      "execution_count": 15,
      "outputs": [
        {
          "output_type": "display_data",
          "data": {
            "image/png": "[encoded data removed]",
            "text/plain": [
              "<Figure size 432x288 with 1 Axes>"
            ]
          },
          "metadata": {
            "needs_background": "light"
          }
        }
      ]
    },
    {
      "cell_type": "code",
      "metadata": {
        "id": "Q1MLhiz2ZNxr"
      },
      "source": [
        ""
      ],
      "execution_count": null,
      "outputs": []
    }
  ]
}